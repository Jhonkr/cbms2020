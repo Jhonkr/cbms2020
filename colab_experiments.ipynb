{
  "nbformat": 4,
  "nbformat_minor": 0,
  "metadata": {
    "colab": {
      "name": "colab_experiments.ipynb",
      "provenance": [],
      "collapsed_sections": []
    },
    "kernelspec": {
      "name": "python3",
      "display_name": "Python 3"
    },
    "accelerator": "GPU"
  },
  "cells": [
    {
      "cell_type": "markdown",
      "metadata": {
        "id": "WWUwwNqwu9zS",
        "colab_type": "text"
      },
      "source": [
        "## Import Data and Libraries"
      ]
    },
    {
      "cell_type": "code",
      "metadata": {
        "id": "aux7Xdpuu485",
        "colab_type": "code",
        "colab": {
          "base_uri": "https://localhost:8080/",
          "height": 632
        },
        "outputId": "00434730-c6a9-43c0-eb5a-5c8904740f0f"
      },
      "source": [
        "!git clone https://github.com/laura-health/cbms2020/\n",
        "!pip install catboost\n",
        "!pip install lightgbm\n",
        "!pip install missingpy"
      ],
      "execution_count": 1,
      "outputs": [
        {
          "output_type": "stream",
          "text": [
            "Cloning into 'cbms2020'...\n",
            "remote: Enumerating objects: 9, done.\u001b[K\n",
            "remote: Counting objects: 100% (9/9), done.\u001b[K\n",
            "remote: Compressing objects: 100% (8/8), done.\u001b[K\n",
            "remote: Total 9 (delta 2), reused 4 (delta 0), pack-reused 0\u001b[K\n",
            "Unpacking objects: 100% (9/9), done.\n",
            "Collecting catboost\n",
            "\u001b[?25l  Downloading https://files.pythonhosted.org/packages/94/ec/12b9a42b2ea7dfe5b602f235692ab2b61ee1334ff34334a15902272869e8/catboost-0.22-cp36-none-manylinux1_x86_64.whl (64.4MB)\n",
            "\u001b[K     |████████████████████████████████| 64.4MB 41kB/s \n",
            "\u001b[?25hRequirement already satisfied: plotly in /usr/local/lib/python3.6/dist-packages (from catboost) (4.4.1)\n",
            "Requirement already satisfied: matplotlib in /usr/local/lib/python3.6/dist-packages (from catboost) (3.1.3)\n",
            "Requirement already satisfied: pandas>=0.24.0 in /usr/local/lib/python3.6/dist-packages (from catboost) (0.25.3)\n",
            "Requirement already satisfied: numpy>=1.16.0 in /usr/local/lib/python3.6/dist-packages (from catboost) (1.17.5)\n",
            "Requirement already satisfied: six in /usr/local/lib/python3.6/dist-packages (from catboost) (1.12.0)\n",
            "Requirement already satisfied: graphviz in /usr/local/lib/python3.6/dist-packages (from catboost) (0.10.1)\n",
            "Requirement already satisfied: scipy in /usr/local/lib/python3.6/dist-packages (from catboost) (1.4.1)\n",
            "Requirement already satisfied: retrying>=1.3.3 in /usr/local/lib/python3.6/dist-packages (from plotly->catboost) (1.3.3)\n",
            "Requirement already satisfied: kiwisolver>=1.0.1 in /usr/local/lib/python3.6/dist-packages (from matplotlib->catboost) (1.1.0)\n",
            "Requirement already satisfied: pyparsing!=2.0.4,!=2.1.2,!=2.1.6,>=2.0.1 in /usr/local/lib/python3.6/dist-packages (from matplotlib->catboost) (2.4.6)\n",
            "Requirement already satisfied: cycler>=0.10 in /usr/local/lib/python3.6/dist-packages (from matplotlib->catboost) (0.10.0)\n",
            "Requirement already satisfied: python-dateutil>=2.1 in /usr/local/lib/python3.6/dist-packages (from matplotlib->catboost) (2.6.1)\n",
            "Requirement already satisfied: pytz>=2017.2 in /usr/local/lib/python3.6/dist-packages (from pandas>=0.24.0->catboost) (2018.9)\n",
            "Requirement already satisfied: setuptools in /usr/local/lib/python3.6/dist-packages (from kiwisolver>=1.0.1->matplotlib->catboost) (45.1.0)\n",
            "Installing collected packages: catboost\n",
            "Successfully installed catboost-0.22\n",
            "Requirement already satisfied: lightgbm in /usr/local/lib/python3.6/dist-packages (2.2.3)\n",
            "Requirement already satisfied: numpy in /usr/local/lib/python3.6/dist-packages (from lightgbm) (1.17.5)\n",
            "Requirement already satisfied: scipy in /usr/local/lib/python3.6/dist-packages (from lightgbm) (1.4.1)\n",
            "Requirement already satisfied: scikit-learn in /usr/local/lib/python3.6/dist-packages (from lightgbm) (0.22.1)\n",
            "Requirement already satisfied: joblib>=0.11 in /usr/local/lib/python3.6/dist-packages (from scikit-learn->lightgbm) (0.14.1)\n",
            "Collecting missingpy\n",
            "\u001b[?25l  Downloading https://files.pythonhosted.org/packages/b5/be/998d04d27054b58f0974b5f09f8457778a0a72d4355e0b7ae877b6cfb850/missingpy-0.2.0-py3-none-any.whl (49kB)\n",
            "\u001b[K     |████████████████████████████████| 51kB 4.0MB/s \n",
            "\u001b[?25hInstalling collected packages: missingpy\n",
            "Successfully installed missingpy-0.2.0\n"
          ],
          "name": "stdout"
        }
      ]
    },
    {
      "cell_type": "markdown",
      "metadata": {
        "id": "VYqbGMy6vT5d",
        "colab_type": "text"
      },
      "source": [
        "## Load Data and Libraries"
      ]
    },
    {
      "cell_type": "code",
      "metadata": {
        "id": "cJeOV93kvQoN",
        "colab_type": "code",
        "colab": {}
      },
      "source": [
        "import pandas as pd\n",
        "from sklearn.model_selection import KFold\n",
        "from sklearn.linear_model import LogisticRegression\n",
        "from sklearn.tree import DecisionTreeClassifier\n",
        "from sklearn.ensemble import RandomForestClassifier\n",
        "from catboost import CatBoostClassifier\n",
        "from missingpy import MissForest\n",
        "from xgboost import XGBClassifier\n",
        "from sklearn.naive_bayes import GaussianNB\n",
        "import lightgbm as lgb\n",
        "from sklearn.model_selection import cross_val_score\n",
        "from sklearn.metrics import roc_auc_score, confusion_matrix, classification_report, f1_score\n",
        "import numpy as np\n",
        "import time\n",
        "import warnings\n",
        "warnings.filterwarnings('ignore')"
      ],
      "execution_count": 0,
      "outputs": []
    },
    {
      "cell_type": "code",
      "metadata": {
        "id": "yknvEU0ZvhQj",
        "colab_type": "code",
        "colab": {
          "base_uri": "https://localhost:8080/",
          "height": 765
        },
        "outputId": "ad53857c-1814-4b36-e277-5b0d5a7ec0a8"
      },
      "source": [
        "dataset = pd.read_csv(\"cbms2020/heg_sample_data.csv\") #normalized dataset\n",
        "dataset.drop('Unnamed: 0', axis=1, inplace=True)\n",
        "dataset.shape, dataset.columns"
      ],
      "execution_count": 20,
      "outputs": [
        {
          "output_type": "execute_result",
          "data": {
            "text/plain": [
              "((13652, 72), Index(['days_from_entrance', 'age', 'document.sexo', 'UTI',\n",
              "        'delta_collect_timestamp_t-t1', 'delta_collect_timestamp_t1-t2',\n",
              "        'delta_collect_timestamp_t2-t3', 'delta_collect_timestamp_t3-t4',\n",
              "        'document.freq_cardiaca(t)', 'document.freq_cardiaca(t-1)',\n",
              "        'document.freq_cardiaca(t-2)', 'document.freq_cardiaca(t-3)',\n",
              "        'document.freq_cardiaca(t-4)', 'document.freq_respiratoria(t)',\n",
              "        'document.freq_respiratoria(t-1)', 'document.freq_respiratoria(t-2)',\n",
              "        'document.freq_respiratoria(t-3)', 'document.freq_respiratoria(t-4)',\n",
              "        'document.glicemia_capilar(t)', 'document.glicemia_capilar(t-1)',\n",
              "        'document.glicemia_capilar(t-2)', 'document.glicemia_capilar(t-3)',\n",
              "        'document.glicemia_capilar(t-4)', 'document.pa_diastolica(t)',\n",
              "        'document.pa_diastolica(t-1)', 'document.pa_diastolica(t-2)',\n",
              "        'document.pa_diastolica(t-3)', 'document.pa_diastolica(t-4)',\n",
              "        'document.pa_sistolica(t)', 'document.pa_sistolica(t-1)',\n",
              "        'document.pa_sistolica(t-2)', 'document.pa_sistolica(t-3)',\n",
              "        'document.pa_sistolica(t-4)', 'document.sat_o2(t)',\n",
              "        'document.sat_o2(t-1)', 'document.sat_o2(t-2)', 'document.sat_o2(t-3)',\n",
              "        'document.sat_o2(t-4)', 'document.temperatura(t)',\n",
              "        'document.temperatura(t-1)', 'document.temperatura(t-2)',\n",
              "        'document.temperatura(t-3)', 'document.temperatura(t-4)',\n",
              "        'delta_document.freq_cardiaca_t-t1',\n",
              "        'delta_document.freq_cardiaca_t1-t2',\n",
              "        'delta_document.freq_cardiaca_t2-t3',\n",
              "        'delta_document.freq_cardiaca_t3-t4',\n",
              "        'delta_document.freq_respiratoria_t-t1',\n",
              "        'delta_document.freq_respiratoria_t1-t2',\n",
              "        'delta_document.freq_respiratoria_t2-t3',\n",
              "        'delta_document.freq_respiratoria_t3-t4',\n",
              "        'delta_document.glicemia_capilar_t-t1',\n",
              "        'delta_document.glicemia_capilar_t1-t2',\n",
              "        'delta_document.glicemia_capilar_t2-t3',\n",
              "        'delta_document.glicemia_capilar_t3-t4',\n",
              "        'delta_document.pa_diastolica_t-t1',\n",
              "        'delta_document.pa_diastolica_t1-t2',\n",
              "        'delta_document.pa_diastolica_t2-t3',\n",
              "        'delta_document.pa_diastolica_t3-t4',\n",
              "        'delta_document.pa_sistolica_t-t1', 'delta_document.pa_sistolica_t1-t2',\n",
              "        'delta_document.pa_sistolica_t2-t3',\n",
              "        'delta_document.pa_sistolica_t3-t4', 'delta_document.sat_o2_t-t1',\n",
              "        'delta_document.sat_o2_t1-t2', 'delta_document.sat_o2_t2-t3',\n",
              "        'delta_document.sat_o2_t3-t4', 'delta_document.temperatura_t-t1',\n",
              "        'delta_document.temperatura_t1-t2', 'delta_document.temperatura_t2-t3',\n",
              "        'delta_document.temperatura_t3-t4', 'outcome'],\n",
              "       dtype='object'))"
            ]
          },
          "metadata": {
            "tags": []
          },
          "execution_count": 20
        }
      ]
    },
    {
      "cell_type": "markdown",
      "metadata": {
        "id": "DHQSXh9PwEpE",
        "colab_type": "text"
      },
      "source": [
        "## Setup Expetiments"
      ]
    },
    {
      "cell_type": "code",
      "metadata": {
        "id": "WR0GF2tdvzMk",
        "colab_type": "code",
        "colab": {}
      },
      "source": [
        "X = dataset.drop([\"outcome\"], axis = 1)\n",
        "Y = dataset[\"outcome\"]"
      ],
      "execution_count": 0,
      "outputs": []
    },
    {
      "cell_type": "code",
      "metadata": {
        "id": "lv0hUf3kwSBC",
        "colab_type": "code",
        "colab": {}
      },
      "source": [
        "kfold = KFold(n_splits=10, random_state=7, shuffle=True)\n",
        "\n",
        "classifiers = {\n",
        "    'XGBoost' : XGBClassifier(learning_rate=0.1, n_estimators=100,random_state=7, tree_method='gpu_hist'),\n",
        "    'LogReg': LogisticRegression(solver='liblinear', multi_class='ovr'),\n",
        "    'D.Tree': DecisionTreeClassifier(),\n",
        "    'RForest': RandomForestClassifier(n_estimators = 50),\n",
        "    'CatBoos': CatBoostClassifier(learning_rate=0.1,n_estimators=100,random_state=7,task_type='GPU',verbose = False),\n",
        "    'Naive': GaussianNB(),\n",
        "    'Light': lgb.LGBMClassifier()\n",
        "}"
      ],
      "execution_count": 0,
      "outputs": []
    },
    {
      "cell_type": "markdown",
      "metadata": {
        "id": "8aTy1YKMwmom",
        "colab_type": "text"
      },
      "source": [
        "## Run Basic Experiments"
      ]
    },
    {
      "cell_type": "code",
      "metadata": {
        "id": "jVef0DcCwaYI",
        "colab_type": "code",
        "colab": {
          "base_uri": "https://localhost:8080/",
          "height": 136
        },
        "outputId": "b1f93f80-91ca-42df-ab0c-58d7bd857540"
      },
      "source": [
        "for c in classifiers:\n",
        "  start = time.time()\n",
        "  model = classifiers[c]\n",
        "  scores = cross_val_score(model, X, Y, cv=kfold, scoring='roc_auc')\n",
        "  scores_f1 = cross_val_score(model, X, Y, cv=kfold, scoring='f1')\n",
        "  print (c + '\\t', round(scores.mean(),4), '(' + str(round(scores_f1.mean(),4)) + ')', round(time.time() - start,2), 's')"
      ],
      "execution_count": 8,
      "outputs": [
        {
          "output_type": "stream",
          "text": [
            "XGBoost\t 0.9076 (0.563) 6.44 s\n",
            "LogReg\t 0.8783 (0.5129) 11.1 s\n",
            "D.Tree\t 0.6973 (0.4705) 16.1 s\n",
            "RForest\t 0.8853 (0.5185) 53.33 s\n",
            "CatBoos\t 0.9058 (0.567) 84.57 s\n",
            "Naive\t 0.7854 (0.456) 0.58 s\n",
            "Light\t 0.9054 (0.5877) 27.89 s\n"
          ],
          "name": "stdout"
        }
      ]
    },
    {
      "cell_type": "markdown",
      "metadata": {
        "id": "cG8GCzeNw8vd",
        "colab_type": "text"
      },
      "source": [
        "## Cross Validation by Windowing"
      ]
    },
    {
      "cell_type": "code",
      "metadata": {
        "id": "IvQq8VhTw9fX",
        "colab_type": "code",
        "colab": {
          "base_uri": "https://localhost:8080/",
          "height": 802
        },
        "outputId": "b4a3e4e9-f2b9-4236-be46-1242a42388d8"
      },
      "source": [
        "cols = ['age', 'document.sexo', 'UTI', 'days_from_entrance']\n",
        "t_cols = [c for c in dataset.columns if '4)' in c and (not 'time' in c)]\n",
        "\n",
        "for i in [4,3,2,1,0]:\n",
        "  \n",
        "  if i == 4: cols.extend(t_cols)\n",
        "  if i == 0:\n",
        "    tN_cols = [c for c in dataset.columns if ('t)' in c or '_t-' in c) and (not 'time' in c)]\n",
        "    cols.extend(tN_cols)\n",
        "  else: \n",
        "    tN_cols = [c for c in dataset.columns if ('t-'+str(i) in c or '_t'+str(i) in c) and (not 'time' in c)]\n",
        "    cols.extend(tN_cols)\n",
        "\n",
        "  cols = list(set(cols))\n",
        "  print('Number of Columns:', len(cols), 'Exam(s):', 5-i)\n",
        "  print(cols)\n",
        "\n",
        "  X_W = dataset[cols]\n",
        "  Y_W = dataset[\"outcome\"]\n",
        "\n",
        "  for c in classifiers:\n",
        "    start = time.time()\n",
        "    model = classifiers[c]\n",
        "    scores = cross_val_score(model, X_W, Y_W, cv=kfold, scoring='roc_auc')\n",
        "    print ('\\t' + c + '\\t', round(scores.mean(),4), '(+-' + str(round(scores.std(),4)) + ')', round(time.time() - start,2), 's')"
      ],
      "execution_count": 10,
      "outputs": [
        {
          "output_type": "stream",
          "text": [
            "Number of Columns: 11 Exam(s): 1\n",
            "['document.temperatura(t-4)', 'document.glicemia_capilar(t-4)', 'days_from_entrance', 'UTI', 'document.pa_diastolica(t-4)', 'document.sat_o2(t-4)', 'document.freq_respiratoria(t-4)', 'document.sexo', 'document.freq_cardiaca(t-4)', 'document.pa_sistolica(t-4)', 'age']\n",
            "\tXGBoost\t 0.846 (+-0.0073) 2.25 s\n",
            "\tLogReg\t 0.8045 (+-0.015) 0.54 s\n",
            "\tD.Tree\t 0.6356 (+-0.0154) 0.76 s\n",
            "\tRForest\t 0.8079 (+-0.0139) 7.39 s\n",
            "\tCatBoos\t 0.8446 (+-0.01) 9.36 s\n",
            "\tNaive\t 0.7696 (+-0.0138) 0.12 s\n",
            "\tLight\t 0.8408 (+-0.0085) 2.75 s\n",
            "Number of Columns: 25 Exam(s): 2\n",
            "['document.temperatura(t-4)', 'delta_document.glicemia_capilar_t3-t4', 'UTI', 'document.freq_respiratoria(t-3)', 'delta_document.temperatura_t3-t4', 'age', 'document.sat_o2(t-4)', 'delta_document.freq_respiratoria_t3-t4', 'document.temperatura(t-3)', 'document.glicemia_capilar(t-3)', 'document.freq_cardiaca(t-4)', 'delta_document.sat_o2_t3-t4', 'delta_document.pa_diastolica_t3-t4', 'document.glicemia_capilar(t-4)', 'delta_document.pa_sistolica_t3-t4', 'document.freq_respiratoria(t-4)', 'document.pa_sistolica(t-3)', 'document.freq_cardiaca(t-3)', 'days_from_entrance', 'document.pa_diastolica(t-3)', 'document.pa_diastolica(t-4)', 'document.sat_o2(t-3)', 'document.sexo', 'delta_document.freq_cardiaca_t3-t4', 'document.pa_sistolica(t-4)']\n",
            "\tXGBoost\t 0.8587 (+-0.007) 2.91 s\n",
            "\tLogReg\t 0.8227 (+-0.0149) 1.23 s\n",
            "\tD.Tree\t 0.6531 (+-0.0135) 1.79 s\n",
            "\tRForest\t 0.824 (+-0.0125) 12.59 s\n",
            "\tCatBoos\t 0.8575 (+-0.0079) 12.96 s\n",
            "\tNaive\t 0.7643 (+-0.0199) 0.18 s\n",
            "\tLight\t 0.8533 (+-0.0092) 5.05 s\n",
            "Number of Columns: 39 Exam(s): 3\n",
            "['document.temperatura(t-4)', 'delta_document.glicemia_capilar_t3-t4', 'delta_document.pa_diastolica_t2-t3', 'UTI', 'document.freq_respiratoria(t-3)', 'delta_document.temperatura_t3-t4', 'document.sat_o2(t-4)', 'age', 'delta_document.freq_respiratoria_t3-t4', 'document.temperatura(t-3)', 'document.glicemia_capilar(t-3)', 'delta_document.pa_sistolica_t2-t3', 'document.glicemia_capilar(t-2)', 'document.freq_cardiaca(t-4)', 'delta_document.sat_o2_t3-t4', 'document.freq_cardiaca(t-2)', 'delta_document.pa_diastolica_t3-t4', 'document.pa_sistolica(t-2)', 'document.glicemia_capilar(t-4)', 'document.freq_respiratoria(t-2)', 'delta_document.pa_sistolica_t3-t4', 'delta_document.freq_respiratoria_t2-t3', 'delta_document.glicemia_capilar_t2-t3', 'document.sat_o2(t-2)', 'delta_document.sat_o2_t2-t3', 'document.freq_respiratoria(t-4)', 'document.pa_sistolica(t-3)', 'document.freq_cardiaca(t-3)', 'document.temperatura(t-2)', 'document.pa_diastolica(t-2)', 'days_from_entrance', 'document.pa_diastolica(t-3)', 'document.pa_diastolica(t-4)', 'document.sat_o2(t-3)', 'delta_document.freq_cardiaca_t2-t3', 'document.sexo', 'delta_document.freq_cardiaca_t3-t4', 'document.pa_sistolica(t-4)', 'delta_document.temperatura_t2-t3']\n",
            "\tXGBoost\t 0.8751 (+-0.0077) 2.64 s\n",
            "\tLogReg\t 0.8376 (+-0.0125) 2.3 s\n",
            "\tD.Tree\t 0.6621 (+-0.0167) 3.08 s\n",
            "\tRForest\t 0.8424 (+-0.0149) 16.19 s\n",
            "\tCatBoos\t 0.8758 (+-0.0062) 13.13 s\n",
            "\tNaive\t 0.7555 (+-0.0192) 0.17 s\n",
            "\tLight\t 0.8763 (+-0.0076) 7.45 s\n",
            "Number of Columns: 53 Exam(s): 4\n",
            "['document.temperatura(t-4)', 'delta_document.pa_diastolica_t2-t3', 'delta_document.glicemia_capilar_t3-t4', 'UTI', 'delta_document.temperatura_t1-t2', 'document.freq_respiratoria(t-3)', 'delta_document.glicemia_capilar_t1-t2', 'delta_document.temperatura_t3-t4', 'document.freq_respiratoria(t-1)', 'age', 'document.sat_o2(t-4)', 'delta_document.freq_respiratoria_t3-t4', 'document.temperatura(t-3)', 'delta_document.pa_sistolica_t1-t2', 'document.glicemia_capilar(t-3)', 'delta_document.pa_sistolica_t2-t3', 'delta_document.freq_respiratoria_t1-t2', 'document.glicemia_capilar(t-2)', 'document.pa_sistolica(t-1)', 'document.freq_cardiaca(t-4)', 'delta_document.sat_o2_t3-t4', 'document.freq_cardiaca(t-2)', 'delta_document.pa_diastolica_t3-t4', 'document.freq_cardiaca(t-1)', 'document.temperatura(t-1)', 'document.pa_sistolica(t-2)', 'document.glicemia_capilar(t-1)', 'delta_document.sat_o2_t1-t2', 'document.glicemia_capilar(t-4)', 'document.freq_respiratoria(t-2)', 'delta_document.pa_sistolica_t3-t4', 'delta_document.freq_respiratoria_t2-t3', 'delta_document.glicemia_capilar_t2-t3', 'document.sat_o2(t-2)', 'delta_document.sat_o2_t2-t3', 'delta_document.freq_cardiaca_t1-t2', 'document.freq_respiratoria(t-4)', 'document.pa_sistolica(t-3)', 'document.freq_cardiaca(t-3)', 'document.temperatura(t-2)', 'delta_document.pa_diastolica_t1-t2', 'document.pa_diastolica(t-2)', 'days_from_entrance', 'document.sat_o2(t-1)', 'document.pa_diastolica(t-3)', 'document.pa_diastolica(t-4)', 'document.sat_o2(t-3)', 'delta_document.freq_cardiaca_t2-t3', 'document.pa_diastolica(t-1)', 'document.sexo', 'delta_document.freq_cardiaca_t3-t4', 'document.pa_sistolica(t-4)', 'delta_document.temperatura_t2-t3']\n",
            "\tXGBoost\t 0.887 (+-0.007) 3.26 s\n",
            "\tLogReg\t 0.8543 (+-0.0111) 3.49 s\n",
            "\tD.Tree\t 0.6798 (+-0.0143) 4.68 s\n",
            "\tRForest\t 0.8619 (+-0.0151) 20.08 s\n",
            "\tCatBoos\t 0.8886 (+-0.0067) 12.87 s\n",
            "\tNaive\t 0.7596 (+-0.0197) 0.21 s\n",
            "\tLight\t 0.8851 (+-0.0084) 10.27 s\n",
            "Number of Columns: 67 Exam(s): 5\n",
            "['document.temperatura(t-4)', 'document.pa_diastolica(t)', 'delta_document.pa_diastolica_t2-t3', 'delta_document.glicemia_capilar_t3-t4', 'document.sat_o2(t)', 'UTI', 'delta_document.temperatura_t1-t2', 'document.freq_cardiaca(t)', 'document.freq_respiratoria(t-3)', 'delta_document.glicemia_capilar_t1-t2', 'document.temperatura(t)', 'delta_document.temperatura_t3-t4', 'document.freq_respiratoria(t-1)', 'document.sat_o2(t-4)', 'age', 'delta_document.freq_respiratoria_t3-t4', 'delta_document.glicemia_capilar_t-t1', 'delta_document.freq_respiratoria_t-t1', 'delta_document.temperatura_t2-t3', 'delta_document.pa_sistolica_t-t1', 'document.temperatura(t-3)', 'delta_document.pa_sistolica_t1-t2', 'document.glicemia_capilar(t-3)', 'delta_document.pa_sistolica_t2-t3', 'delta_document.freq_respiratoria_t1-t2', 'document.glicemia_capilar(t-2)', 'document.pa_sistolica(t-1)', 'document.freq_cardiaca(t-4)', 'delta_document.sat_o2_t3-t4', 'document.freq_cardiaca(t-2)', 'document.pa_sistolica(t)', 'delta_document.pa_diastolica_t3-t4', 'document.freq_cardiaca(t-1)', 'delta_document.freq_cardiaca_t-t1', 'document.temperatura(t-1)', 'document.glicemia_capilar(t)', 'document.freq_respiratoria(t)', 'document.pa_sistolica(t-2)', 'document.glicemia_capilar(t-1)', 'delta_document.sat_o2_t1-t2', 'document.glicemia_capilar(t-4)', 'document.freq_respiratoria(t-2)', 'delta_document.pa_sistolica_t3-t4', 'delta_document.freq_respiratoria_t2-t3', 'delta_document.glicemia_capilar_t2-t3', 'document.sat_o2(t-2)', 'delta_document.sat_o2_t2-t3', 'delta_document.freq_cardiaca_t1-t2', 'document.freq_respiratoria(t-4)', 'document.pa_sistolica(t-3)', 'delta_document.pa_diastolica_t-t1', 'document.freq_cardiaca(t-3)', 'document.temperatura(t-2)', 'delta_document.pa_diastolica_t1-t2', 'document.pa_diastolica(t-2)', 'days_from_entrance', 'document.sat_o2(t-1)', 'document.pa_diastolica(t-3)', 'delta_document.sat_o2_t-t1', 'document.pa_diastolica(t-4)', 'document.sat_o2(t-3)', 'delta_document.freq_cardiaca_t2-t3', 'document.sexo', 'delta_document.temperatura_t-t1', 'delta_document.freq_cardiaca_t3-t4', 'document.pa_sistolica(t-4)', 'document.pa_diastolica(t-1)']\n",
            "\tXGBoost\t 0.9072 (+-0.0067) 2.57 s\n",
            "\tLogReg\t 0.8749 (+-0.0086) 4.42 s\n",
            "\tD.Tree\t 0.6957 (+-0.0206) 6.53 s\n",
            "\tRForest\t 0.882 (+-0.0111) 24.15 s\n",
            "\tCatBoos\t 0.9071 (+-0.0083) 12.77 s\n",
            "\tNaive\t 0.7735 (+-0.018) 0.29 s\n",
            "\tLight\t 0.9057 (+-0.0066) 12.6 s\n"
          ],
          "name": "stdout"
        }
      ]
    }
  ]
}